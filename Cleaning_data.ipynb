{
 "cells": [
  {
   "cell_type": "code",
   "execution_count": 2,
   "metadata": {},
   "outputs": [],
   "source": [
    "import pandas as pd"
   ]
  },
  {
   "cell_type": "code",
   "execution_count": 4,
   "metadata": {},
   "outputs": [
    {
     "name": "stderr",
     "output_type": "stream",
     "text": [
      "/tmp/ipykernel_531532/2570117632.py:2: DtypeWarning: Columns (1,2,3,6,7,8,9) have mixed types. Specify dtype option on import or set low_memory=False.\n",
      "  gujarati_tweets = pd.read_csv('/home/zam21003/tweets_collected_by_chiman/gujarati_tweets.csv')\n"
     ]
    }
   ],
   "source": [
    "hindi_df = pd.read_csv('/home/zam21003/tweets_collected_by_chiman/chindi_tweets.csv')\n",
    "gujarati_tweets = pd.read_csv('/home/zam21003/tweets_collected_by_chiman/gujarati_tweets.csv')\n",
    "keywords = pd.read_csv('/home/zam21003/tweets_collected_by_chiman/save.csv')"
   ]
  },
  {
   "cell_type": "code",
   "execution_count": 12,
   "metadata": {},
   "outputs": [],
   "source": [
    "import numpy as np\n",
    "for i in keywords.iloc[:,0]:\n",
    "    if not pd.isna(i):\n",
    "        hindi_covid = hindi_df[hindi_df['text'].str.contains(i) == True]\n",
    "\n"
   ]
  },
  {
   "cell_type": "code",
   "execution_count": 21,
   "metadata": {},
   "outputs": [],
   "source": [
    "import numpy as np\n",
    "for i in keywords.iloc[:,1]:\n",
    "    if not pd.isna(i):\n",
    "        hindi_covid = hindi_df[hindi_df['text'].str.contains(i) == True]\n",
    "\n"
   ]
  },
  {
   "cell_type": "code",
   "execution_count": 28,
   "metadata": {},
   "outputs": [],
   "source": [
    "import numpy as np\n",
    "for i in keywords.iloc[:,4]:\n",
    "    if not pd.isna(i):\n",
    "        gujarti_covid = gujarati_tweets[gujarati_tweets['text'].str.contains(i) == True]\n",
    "\n"
   ]
  },
  {
   "cell_type": "code",
   "execution_count": 31,
   "metadata": {},
   "outputs": [
    {
     "data": {
      "text/plain": [
       "11"
      ]
     },
     "execution_count": 31,
     "metadata": {},
     "output_type": "execute_result"
    }
   ],
   "source": [
    "len(gujarti_covid)"
   ]
  },
  {
   "cell_type": "code",
   "execution_count": 39,
   "metadata": {},
   "outputs": [
    {
     "data": {
      "text/plain": [
       "'@GadhviBabu @Gopal_Italia હા..નવું ખોટું ગોતી આવ્યા બાકી.. લમ્પી વાઇરસ ભાજપ એ બહાર નથી પાડ્યો કુદરત એ બહાર પાડ્યો છે અને સરકારે તરત તેની રસી બનાવી ને ગાય માતા ને આપી છે.. જો કે એ જનતા જાણે છે એમાં તમારા સિર્ટિફિકેટ ની જરૂર નથી.. બાકી બ્રાહ્મણ આ ઈટાલીયા રાક્ષસ ને માફ નહિ જ કરે'"
      ]
     },
     "execution_count": 39,
     "metadata": {},
     "output_type": "execute_result"
    }
   ],
   "source": [
    "gujarti_covid['text'][4817]"
   ]
  },
  {
   "cell_type": "code",
   "execution_count": 40,
   "metadata": {},
   "outputs": [],
   "source": [
    "persian_df = pd.read_csv('/home/zam21003/tweets_collected_by_chiman/persian_tweets.csv')"
   ]
  },
  {
   "cell_type": "code",
   "execution_count": 42,
   "metadata": {},
   "outputs": [
    {
     "data": {
      "text/plain": [
       "0              Persian\n",
       "1             COVID 19\n",
       "2        فاصله اجتماعی\n",
       "3                فومیت\n",
       "4               اپیدمی\n",
       "5               پاندمی\n",
       "6                 شیوع\n",
       "7                  NaN\n",
       "8                  NaN\n",
       "9                  NaN\n",
       "10                 NaN\n",
       "11        سوپر اسپریدر\n",
       "12               انزوا\n",
       "13    ایزوله سازی شخصی\n",
       "14                مسری\n",
       "15               عفونی\n",
       "16               ویروس\n",
       "17                 NaN\n",
       "18                 NaN\n",
       "19                 NaN\n",
       "20                 NaN\n",
       "21                 NaN\n",
       "Name: Unnamed: 3, dtype: object"
      ]
     },
     "execution_count": 42,
     "metadata": {},
     "output_type": "execute_result"
    }
   ],
   "source": [
    "keywords.iloc[:,3]"
   ]
  },
  {
   "cell_type": "code",
   "execution_count": 43,
   "metadata": {},
   "outputs": [],
   "source": [
    "import numpy as np\n",
    "for i in keywords.iloc[:,3]:\n",
    "    if not pd.isna(i):\n",
    "        persian_covid = persian_df[persian_df['text'].str.contains(i) == True]\n"
   ]
  },
  {
   "cell_type": "code",
   "execution_count": 48,
   "metadata": {},
   "outputs": [
    {
     "name": "stdout",
     "output_type": "stream",
     "text": [
      "Persian\n",
      "COVID 19\n",
      "فاصله اجتماعی\n",
      "فومیت\n",
      "اپیدمی\n",
      "پاندمی\n",
      "شیوع\n",
      "nan\n",
      "nan\n",
      "nan\n",
      "nan\n",
      "سوپر اسپریدر\n",
      "انزوا\n",
      "ایزوله سازی شخصی\n",
      "مسری\n",
      "عفونی\n",
      "ویروس\n",
      "nan\n",
      "nan\n",
      "nan\n",
      "nan\n",
      "nan\n"
     ]
    }
   ],
   "source": [
    "for i in keywords.iloc[:,3]:\n",
    "    print(i)"
   ]
  },
  {
   "cell_type": "code",
   "execution_count": 47,
   "metadata": {},
   "outputs": [
    {
     "data": {
      "text/plain": [
       "100352"
      ]
     },
     "execution_count": 47,
     "metadata": {},
     "output_type": "execute_result"
    }
   ],
   "source": [
    "len(persian_df)"
   ]
  },
  {
   "cell_type": "code",
   "execution_count": 52,
   "metadata": {},
   "outputs": [
    {
     "data": {
      "text/plain": [
       "'कांग्रेस पार्टी से संघी मुसंघी वाइरस की सफाई करो\\nपार्टी को किसान मजदूर दलित आदिवासी सिख ईसाई मुस्लिम वर्ग पार्टी घोषित करे। बिना प्रचार के 165 सीटि राजस्थान विधानसभा के लिए जीतने की गारंटी लेवे। https://t.co/gK8F6bnYir'"
      ]
     },
     "execution_count": 52,
     "metadata": {},
     "output_type": "execute_result"
    }
   ],
   "source": [
    "hindi_covid['text'][6913]"
   ]
  },
  {
   "cell_type": "code",
   "execution_count": 70,
   "metadata": {},
   "outputs": [
    {
     "data": {
      "text/plain": [
       "'#अरुंधति_राॅय ने एक विदेशी चैनल #DW को इंटरव्यू देते हुए बोली,कोरोना वाइरस को भारत सरकार मुसलमानों के खिलाफ इस्तेमाल करने की साजिश कर रही है जिससे एक बहुत बड़ा नरसंहार मुसलमानों का किया जा सके,\\n\\nये देशदोह और नफरत फैलाने की साजिश है मुकदमा दर्ज किया जाना चाहिए'"
      ]
     },
     "execution_count": 70,
     "metadata": {},
     "output_type": "execute_result"
    }
   ],
   "source": [
    "list(hindi_covid['text'])[14]"
   ]
  },
  {
   "cell_type": "code",
   "execution_count": null,
   "metadata": {},
   "outputs": [],
   "source": []
  },
  {
   "cell_type": "code",
   "execution_count": null,
   "metadata": {},
   "outputs": [],
   "source": []
  }
 ],
 "metadata": {
  "interpreter": {
   "hash": "c68c61ac377f974d07e0387260abd429c114c6fa475f8625a6072404040de5da"
  },
  "kernelspec": {
   "display_name": "Python 3.10.9 ('cross_lingual')",
   "language": "python",
   "name": "python3"
  },
  "language_info": {
   "codemirror_mode": {
    "name": "ipython",
    "version": 3
   },
   "file_extension": ".py",
   "mimetype": "text/x-python",
   "name": "python",
   "nbconvert_exporter": "python",
   "pygments_lexer": "ipython3",
   "version": "3.10.9"
  },
  "orig_nbformat": 4
 },
 "nbformat": 4,
 "nbformat_minor": 2
}
