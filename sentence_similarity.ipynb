{
 "cells": [
  {
   "cell_type": "code",
   "execution_count": 2,
   "metadata": {},
   "outputs": [],
   "source": [
    "import pandas as pd"
   ]
  },
  {
   "cell_type": "code",
   "execution_count": 3,
   "metadata": {},
   "outputs": [],
   "source": [
    "df = pd.read_csv('/home/zam21003/hindi_tweets_translation.csv')"
   ]
  },
  {
   "cell_type": "code",
   "execution_count": 4,
   "metadata": {},
   "outputs": [],
   "source": [
    "df.columns = df.iloc[0]\n",
    "df = df.drop(0)"
   ]
  },
  {
   "cell_type": "code",
   "execution_count": 5,
   "metadata": {},
   "outputs": [
    {
     "data": {
      "text/html": [
       "<div>\n",
       "<style scoped>\n",
       "    .dataframe tbody tr th:only-of-type {\n",
       "        vertical-align: middle;\n",
       "    }\n",
       "\n",
       "    .dataframe tbody tr th {\n",
       "        vertical-align: top;\n",
       "    }\n",
       "\n",
       "    .dataframe thead th {\n",
       "        text-align: right;\n",
       "    }\n",
       "</style>\n",
       "<table border=\"1\" class=\"dataframe\">\n",
       "  <thead>\n",
       "    <tr style=\"text-align: right;\">\n",
       "      <th></th>\n",
       "      <th>tweet</th>\n",
       "      <th>Human translation</th>\n",
       "      <th>Google translation</th>\n",
       "      <th>Chatgpt translation</th>\n",
       "      <th>NaN</th>\n",
       "      <th>NaN</th>\n",
       "      <th>NaN</th>\n",
       "    </tr>\n",
       "  </thead>\n",
       "  <tbody>\n",
       "    <tr>\n",
       "      <th>1</th>\n",
       "      <td>'कांग्रेस पार्टी से संघी मुसंघी वाइरस की सफाई ...</td>\n",
       "      <td>Clean the congress party from the sanghi musan...</td>\n",
       "      <td>Cleanse the Sanghi Musanghi virus from the Con...</td>\n",
       "      <td>\"Clean the Congress party from the Sangh's vir...</td>\n",
       "      <td>NaN</td>\n",
       "      <td>NaN</td>\n",
       "      <td>NaN</td>\n",
       "    </tr>\n",
       "    <tr>\n",
       "      <th>2</th>\n",
       "      <td>@SureshRajvans10 @WickyBhim दुष्ट ब्राह्मण हैं...</td>\n",
       "      <td>Suresh, wicky is an evil brahman. Disgraceful ...</td>\n",
       "      <td>@SureshRajvans10 @WickyBhim are evil Brahmins....</td>\n",
       "      <td>\"@SureshRajvans10 @WickyBhim are evil Brahmins...</td>\n",
       "      <td>NaN</td>\n",
       "      <td>NaN</td>\n",
       "      <td>NaN</td>\n",
       "    </tr>\n",
       "    <tr>\n",
       "      <th>3</th>\n",
       "      <td>@HiGuptaVishal @kaajukatla @ArvindKejriwal घी ...</td>\n",
       "      <td>Ghee is measured in liters. Virus of cabbage s...</td>\n",
       "      <td>@HiGuptaVishal @kaajukatla @ArvindKejriwal Ghe...</td>\n",
       "      <td>\"@HiGuptaVishal @kaajukatla @ArvindKejriwal Gh...</td>\n",
       "      <td>NaN</td>\n",
       "      <td>NaN</td>\n",
       "      <td>NaN</td>\n",
       "    </tr>\n",
       "    <tr>\n",
       "      <th>4</th>\n",
       "      <td>'यह एक वाइरस रुपी अर्ध संस्कारी बिमारी है यह ब...</td>\n",
       "      <td>This is a form of semi-cultured disease, the s...</td>\n",
       "      <td>This is a semi-cultured disease in the form of...</td>\n",
       "      <td>\"This is a virus-like semi-civilized disease. ...</td>\n",
       "      <td>NaN</td>\n",
       "      <td>NaN</td>\n",
       "      <td>NaN</td>\n",
       "    </tr>\n",
       "    <tr>\n",
       "      <th>5</th>\n",
       "      <td>वाइरस है ये बॉलीवडियन\\n#YashChopra'</td>\n",
       "      <td>This bollywoodian is a  virus #yash Chopra</td>\n",
       "      <td>This Bollywoodian is a virus\\n#YashChopra'\\n</td>\n",
       "      <td>\"This is a virus Bollywoodian. #YashChopra\"</td>\n",
       "      <td>NaN</td>\n",
       "      <td>NaN</td>\n",
       "      <td>NaN</td>\n",
       "    </tr>\n",
       "    <tr>\n",
       "      <th>6</th>\n",
       "      <td>@Chaik0_00 ये नया zometo वाइरस है ।'</td>\n",
       "      <td>This new tometo is a virus</td>\n",
       "      <td>@Chaik0_00 This is the new zometo virus.\\n</td>\n",
       "      <td>\"@Chaik0_00 This is a new Zomato virus.\"</td>\n",
       "      <td>NaN</td>\n",
       "      <td>NaN</td>\n",
       "      <td>NaN</td>\n",
       "    </tr>\n",
       "    <tr>\n",
       "      <th>7</th>\n",
       "      <td>'नड्डा जी कर्नाटक के लोगों को धमका रहे हैं। \\n...</td>\n",
       "      <td>Nadda ji is threatening the people of Karnatak...</td>\n",
       "      <td>'Nadda ji is threatening the people of Karnata...</td>\n",
       "      <td>\"Nadda Ji is threatening the people of Karnata...</td>\n",
       "      <td>NaN</td>\n",
       "      <td>NaN</td>\n",
       "      <td>NaN</td>\n",
       "    </tr>\n",
       "    <tr>\n",
       "      <th>8</th>\n",
       "      <td>@nitinagarwalINC @RahulGandhi ये तो होना ही था...</td>\n",
       "      <td>This was bound to happen. Yesterday’s lawyers ...</td>\n",
       "      <td>@nitinagarwalINC @RahulGandhi This was bound t...</td>\n",
       "      <td>\"@nitinagarwalINC @RahulGandhi This was bound ...</td>\n",
       "      <td>NaN</td>\n",
       "      <td>NaN</td>\n",
       "      <td>NaN</td>\n",
       "    </tr>\n",
       "    <tr>\n",
       "      <th>9</th>\n",
       "      <td>'@AishMohammadKh5 @zoo_bear @bastar_police @Ba...</td>\n",
       "      <td>Your community is a virus, now hindus are catc...</td>\n",
       "      <td>'@AishMohammadKh5 @zoo_bear @bastar_police @Ba...</td>\n",
       "      <td>\"@AishMohammadKh5 @zoo_bear @bastar_police @Ba...</td>\n",
       "      <td>NaN</td>\n",
       "      <td>NaN</td>\n",
       "      <td>NaN</td>\n",
       "    </tr>\n",
       "    <tr>\n",
       "      <th>10</th>\n",
       "      <td>#अरुंधति_राॅय ने एक विदेशी चैनल #DW को इंटरव्य...</td>\n",
       "      <td>Arundhati roy while giving an interview to a f...</td>\n",
       "      <td>#Arundhati_Roy, while giving an interview to a...</td>\n",
       "      <td>\"#Arundhati_Roy, while giving an interview to ...</td>\n",
       "      <td>NaN</td>\n",
       "      <td>NaN</td>\n",
       "      <td>NaN</td>\n",
       "    </tr>\n",
       "  </tbody>\n",
       "</table>\n",
       "</div>"
      ],
      "text/plain": [
       "0                                               tweet  \\\n",
       "1   'कांग्रेस पार्टी से संघी मुसंघी वाइरस की सफाई ...   \n",
       "2   @SureshRajvans10 @WickyBhim दुष्ट ब्राह्मण हैं...   \n",
       "3   @HiGuptaVishal @kaajukatla @ArvindKejriwal घी ...   \n",
       "4   'यह एक वाइरस रुपी अर्ध संस्कारी बिमारी है यह ब...   \n",
       "5                 वाइरस है ये बॉलीवडियन\\n#YashChopra'   \n",
       "6                @Chaik0_00 ये नया zometo वाइरस है ।'   \n",
       "7   'नड्डा जी कर्नाटक के लोगों को धमका रहे हैं। \\n...   \n",
       "8   @nitinagarwalINC @RahulGandhi ये तो होना ही था...   \n",
       "9   '@AishMohammadKh5 @zoo_bear @bastar_police @Ba...   \n",
       "10  #अरुंधति_राॅय ने एक विदेशी चैनल #DW को इंटरव्य...   \n",
       "\n",
       "0                                   Human translation  \\\n",
       "1   Clean the congress party from the sanghi musan...   \n",
       "2   Suresh, wicky is an evil brahman. Disgraceful ...   \n",
       "3   Ghee is measured in liters. Virus of cabbage s...   \n",
       "4   This is a form of semi-cultured disease, the s...   \n",
       "5          This bollywoodian is a  virus #yash Chopra   \n",
       "6                          This new tometo is a virus   \n",
       "7   Nadda ji is threatening the people of Karnatak...   \n",
       "8   This was bound to happen. Yesterday’s lawyers ...   \n",
       "9   Your community is a virus, now hindus are catc...   \n",
       "10  Arundhati roy while giving an interview to a f...   \n",
       "\n",
       "0                                  Google translation  \\\n",
       "1   Cleanse the Sanghi Musanghi virus from the Con...   \n",
       "2   @SureshRajvans10 @WickyBhim are evil Brahmins....   \n",
       "3   @HiGuptaVishal @kaajukatla @ArvindKejriwal Ghe...   \n",
       "4   This is a semi-cultured disease in the form of...   \n",
       "5        This Bollywoodian is a virus\\n#YashChopra'\\n   \n",
       "6          @Chaik0_00 This is the new zometo virus.\\n   \n",
       "7   'Nadda ji is threatening the people of Karnata...   \n",
       "8   @nitinagarwalINC @RahulGandhi This was bound t...   \n",
       "9   '@AishMohammadKh5 @zoo_bear @bastar_police @Ba...   \n",
       "10  #Arundhati_Roy, while giving an interview to a...   \n",
       "\n",
       "0                                 Chatgpt translation  NaN  NaN  NaN  \n",
       "1   \"Clean the Congress party from the Sangh's vir...  NaN  NaN  NaN  \n",
       "2   \"@SureshRajvans10 @WickyBhim are evil Brahmins...  NaN  NaN  NaN  \n",
       "3   \"@HiGuptaVishal @kaajukatla @ArvindKejriwal Gh...  NaN  NaN  NaN  \n",
       "4   \"This is a virus-like semi-civilized disease. ...  NaN  NaN  NaN  \n",
       "5         \"This is a virus Bollywoodian. #YashChopra\"  NaN  NaN  NaN  \n",
       "6            \"@Chaik0_00 This is a new Zomato virus.\"  NaN  NaN  NaN  \n",
       "7   \"Nadda Ji is threatening the people of Karnata...  NaN  NaN  NaN  \n",
       "8   \"@nitinagarwalINC @RahulGandhi This was bound ...  NaN  NaN  NaN  \n",
       "9   \"@AishMohammadKh5 @zoo_bear @bastar_police @Ba...  NaN  NaN  NaN  \n",
       "10  \"#Arundhati_Roy, while giving an interview to ...  NaN  NaN  NaN  "
      ]
     },
     "execution_count": 5,
     "metadata": {},
     "output_type": "execute_result"
    }
   ],
   "source": [
    "df"
   ]
  },
  {
   "cell_type": "code",
   "execution_count": 6,
   "metadata": {},
   "outputs": [
    {
     "name": "stderr",
     "output_type": "stream",
     "text": [
      "/home/zam21003/Anaconda/envs/cross_lingual/lib/python3.10/site-packages/torch/_utils.py:776: UserWarning: TypedStorage is deprecated. It will be removed in the future and UntypedStorage will be the only storage class. This should only matter to you if you are using storages directly.  To access UntypedStorage directly, use tensor.untyped_storage() instead of tensor.storage()\n",
      "  return self.fget.__get__(instance, owner)()\n",
      "/home/zam21003/Anaconda/envs/cross_lingual/lib/python3.10/site-packages/torch/_utils.py:776: UserWarning: TypedStorage is deprecated. It will be removed in the future and UntypedStorage will be the only storage class. This should only matter to you if you are using storages directly.  To access UntypedStorage directly, use tensor.untyped_storage() instead of tensor.storage()\n",
      "  return self.fget.__get__(instance, owner)()\n"
     ]
    }
   ],
   "source": [
    "chatgpt_google = []\n",
    "\n",
    "from sentence_transformers import SentenceTransformer, util\n",
    "for i in range(1,len(df)):\n",
    "    sentences = [df['Google translation'][i],df['Chatgpt translation'][i]]\n",
    "\n",
    "    model = SentenceTransformer('sentence-transformers/all-MiniLM-L6-v2')\n",
    "\n",
    "    #Compute embedding for both lists\n",
    "    embedding_1= model.encode(sentences[0], convert_to_tensor=True)\n",
    "    embedding_2 = model.encode(sentences[1], convert_to_tensor=True)\n",
    "\n",
    "    chatgpt_google.append(util.pytorch_cos_sim(embedding_1, embedding_2))\n",
    "## tensor([[0.6003]])\n"
   ]
  },
  {
   "cell_type": "code",
   "execution_count": 7,
   "metadata": {},
   "outputs": [],
   "source": [
    "human_chatgpt = []\n",
    "from sentence_transformers import SentenceTransformer, util\n",
    "for i in range(1,len(df)):\n",
    "    sentences = [df['Human translation'][i],df['Chatgpt translation'][i]]\n",
    "\n",
    "    model = SentenceTransformer('sentence-transformers/all-MiniLM-L6-v2')\n",
    "\n",
    "    #Compute embedding for both lists\n",
    "    embedding_1= model.encode(sentences[0], convert_to_tensor=True)\n",
    "    embedding_2 = model.encode(sentences[1], convert_to_tensor=True)\n",
    "\n",
    "    human_chatgpt.append(util.pytorch_cos_sim(embedding_1, embedding_2))\n",
    "## tensor([[0.6003]])\n"
   ]
  },
  {
   "cell_type": "code",
   "execution_count": 8,
   "metadata": {},
   "outputs": [],
   "source": [
    "google_human = []\n",
    "from sentence_transformers import SentenceTransformer, util\n",
    "for i in range(1,len(df)):\n",
    "    sentences = [df['Human translation'][i],df['Google translation'][i]]\n",
    "\n",
    "    model = SentenceTransformer('sentence-transformers/all-MiniLM-L6-v2')\n",
    "\n",
    "    #Compute embedding for both lists\n",
    "    embedding_1= model.encode(sentences[0], convert_to_tensor=True)\n",
    "    embedding_2 = model.encode(sentences[1], convert_to_tensor=True)\n",
    "\n",
    "    google_human.append(util.pytorch_cos_sim(embedding_1, embedding_2))\n",
    "## tensor([[0.6003]])"
   ]
  },
  {
   "cell_type": "code",
   "execution_count": 20,
   "metadata": {},
   "outputs": [
    {
     "data": {
      "text/plain": [
       "tensor([[0.9238]], device='cuda:0')"
      ]
     },
     "execution_count": 20,
     "metadata": {},
     "output_type": "execute_result"
    }
   ],
   "source": [
    "human_chatgpt[0]"
   ]
  },
  {
   "cell_type": "code",
   "execution_count": 23,
   "metadata": {},
   "outputs": [
    {
     "data": {
      "text/plain": [
       "[tensor([[0.8750]], device='cuda:0'),\n",
       " tensor([[0.5348]], device='cuda:0'),\n",
       " tensor([[0.9342]], device='cuda:0'),\n",
       " tensor([[0.8365]], device='cuda:0'),\n",
       " tensor([[0.9357]], device='cuda:0'),\n",
       " tensor([[0.8086]], device='cuda:0'),\n",
       " tensor([[0.9527]], device='cuda:0'),\n",
       " tensor([[0.9235]], device='cuda:0'),\n",
       " tensor([[0.9375]], device='cuda:0')]"
      ]
     },
     "execution_count": 23,
     "metadata": {},
     "output_type": "execute_result"
    }
   ],
   "source": [
    "chatgpt_google"
   ]
  },
  {
   "cell_type": "code",
   "execution_count": 24,
   "metadata": {},
   "outputs": [
    {
     "data": {
      "text/plain": [
       "[tensor([[0.9058]], device='cuda:0'),\n",
       " tensor([[0.2840]], device='cuda:0'),\n",
       " tensor([[0.8990]], device='cuda:0'),\n",
       " tensor([[0.9307]], device='cuda:0'),\n",
       " tensor([[0.8805]], device='cuda:0'),\n",
       " tensor([[0.5846]], device='cuda:0'),\n",
       " tensor([[0.8302]], device='cuda:0'),\n",
       " tensor([[0.8407]], device='cuda:0'),\n",
       " tensor([[0.8104]], device='cuda:0')]"
      ]
     },
     "execution_count": 24,
     "metadata": {},
     "output_type": "execute_result"
    }
   ],
   "source": [
    "google_human"
   ]
  },
  {
   "cell_type": "code",
   "execution_count": 1,
   "metadata": {},
   "outputs": [
    {
     "ename": "NameError",
     "evalue": "name 'human_chatgpt' is not defined",
     "output_type": "error",
     "traceback": [
      "\u001b[0;31m---------------------------------------------------------------------------\u001b[0m",
      "\u001b[0;31mNameError\u001b[0m                                 Traceback (most recent call last)",
      "\u001b[0;32m<ipython-input-1-fd25e4f581d2>\u001b[0m in \u001b[0;36m<module>\u001b[0;34m\u001b[0m\n\u001b[0;32m----> 1\u001b[0;31m \u001b[0mhuman_chatgpt\u001b[0m\u001b[0;34m[\u001b[0m\u001b[0;36m0\u001b[0m\u001b[0;34m]\u001b[0m\u001b[0;34m\u001b[0m\u001b[0;34m\u001b[0m\u001b[0m\n\u001b[0m",
      "\u001b[0;31mNameError\u001b[0m: name 'human_chatgpt' is not defined"
     ]
    }
   ],
   "source": [
    "human_chatgpt[0]"
   ]
  },
  {
   "cell_type": "code",
   "execution_count": 23,
   "metadata": {},
   "outputs": [],
   "source": [
    "tensor_value = human_chatgpt[0].cpu().numpy()"
   ]
  },
  {
   "cell_type": "code",
   "execution_count": 26,
   "metadata": {},
   "outputs": [
    {
     "data": {
      "text/plain": [
       "0.9238372"
      ]
     },
     "execution_count": 26,
     "metadata": {},
     "output_type": "execute_result"
    }
   ],
   "source": [
    "tensor_value[0][0]"
   ]
  },
  {
   "cell_type": "code",
   "execution_count": 38,
   "metadata": {},
   "outputs": [],
   "source": [
    "def tensor_numerical(a_list):\n",
    "    new_list = []\n",
    "    for i in a_list:\n",
    "        new_value = i.cpu().numpy()[0][0]\n",
    "        \n",
    "        new_list.append(new_value)\n",
    "    return new_list"
   ]
  },
  {
   "cell_type": "code",
   "execution_count": 39,
   "metadata": {},
   "outputs": [],
   "source": [
    "human_chat_gpt_list = tensor_numerical(human_chatgpt)\n",
    "google_human_list = tensor_numerical(google_human)\n",
    "chatgpt_google_list = tensor_numerical(chatgpt_google)"
   ]
  },
  {
   "cell_type": "code",
   "execution_count": 35,
   "metadata": {},
   "outputs": [
    {
     "data": {
      "text/plain": [
       "[0.9238372,\n",
       " 0.4887395,\n",
       " 0.857069,\n",
       " 0.8762374,\n",
       " 0.82664776,\n",
       " 0.51067066,\n",
       " 0.8621089,\n",
       " 0.915631,\n",
       " 0.8180839]"
      ]
     },
     "execution_count": 35,
     "metadata": {},
     "output_type": "execute_result"
    }
   ],
   "source": []
  },
  {
   "cell_type": "code",
   "execution_count": 41,
   "metadata": {},
   "outputs": [
    {
     "data": {
      "text/plain": [
       "<matplotlib.legend.Legend at 0x7fdb9c2f9390>"
      ]
     },
     "execution_count": 41,
     "metadata": {},
     "output_type": "execute_result"
    },
    {
     "data": {
      "image/png": "[encoded data removed]",
      "text/plain": [
       "<Figure size 640x480 with 1 Axes>"
      ]
     },
     "metadata": {},
     "output_type": "display_data"
    }
   ],
   "source": [
    "import matplotlib.pyplot as plt\n",
    "\n",
    "\n",
    "\n",
    "# X-axis values (e.g., time points)\n",
    "x_values = [1, 2, 3, 4, 5,6,7,8,9]\n",
    "\n",
    "# Plotting each list as a separate line\n",
    "plt.plot(x_values, human_chat_gpt_list, label='human_chatgpt')\n",
    "plt.plot(x_values, google_human_list, label='google_human')\n",
    "plt.plot(x_values, chatgpt_google_list, label='chatgpt_google')\n",
    "\n",
    "# Adding labels and legend\n",
    "plt.xlabel('X-axis Label')\n",
    "plt.ylabel('Y-axis Label')\n",
    "plt.title('Performance Comparison')\n",
    "plt.legend()"
   ]
  },
  {
   "cell_type": "code",
   "execution_count": null,
   "metadata": {},
   "outputs": [],
   "source": []
  }
 ],
 "metadata": {
  "interpreter": {
   "hash": "c68c61ac377f974d07e0387260abd429c114c6fa475f8625a6072404040de5da"
  },
  "kernelspec": {
   "display_name": "Python 3.10.9 ('cross_lingual')",
   "language": "python",
   "name": "python3"
  },
  "language_info": {
   "codemirror_mode": {
    "name": "ipython",
    "version": 3
   },
   "file_extension": ".py",
   "mimetype": "text/x-python",
   "name": "python",
   "nbconvert_exporter": "python",
   "pygments_lexer": "ipython3",
   "version": "3.10.9"
  },
  "orig_nbformat": 4
 },
 "nbformat": 4,
 "nbformat_minor": 2
}
