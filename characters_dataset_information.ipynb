{
 "cells": [
  {
   "cell_type": "code",
   "execution_count": 3,
   "metadata": {},
   "outputs": [],
   "source": [
    "import pandas as pd"
   ]
  },
  {
   "cell_type": "code",
   "execution_count": 29,
   "metadata": {},
   "outputs": [
    {
     "name": "stderr",
     "output_type": "stream",
     "text": [
      "<ipython-input-29-5a8e1effdb21>:1: DtypeWarning: Columns (1,2,3,6,7,8,9) have mixed types. Specify dtype option on import or set low_memory=False.\n",
      "  gujarati_tweets = pd.read_csv('/home/zam21003/tweets_collected_by_chiman/gujarati_tweets.csv')\n"
     ]
    }
   ],
   "source": [
    "gujarati_tweets = pd.read_csv('/home/zam21003/tweets_collected_by_chiman/gujarati_tweets.csv')"
   ]
  },
  {
   "cell_type": "code",
   "execution_count": 4,
   "metadata": {},
   "outputs": [],
   "source": [
    "keywords = pd.read_csv('/home/zam21003/tweets_collected_by_chiman/save.csv')"
   ]
  },
  {
   "cell_type": "code",
   "execution_count": 30,
   "metadata": {},
   "outputs": [],
   "source": [
    "import numpy as np\n",
    "count = 0\n",
    "for i in keywords.iloc[:, 4]:\n",
    "    if not pd.isna(i):\n",
    "        count = count + len(gujarati_tweets[gujarati_tweets['text'].str.contains(i) == True]['text'])\n",
    "\n",
    "\n",
    "\n",
    "\n",
    "\n",
    "    "
   ]
  },
  {
   "cell_type": "code",
   "execution_count": 10,
   "metadata": {},
   "outputs": [
    {
     "name": "stdout",
     "output_type": "stream",
     "text": [
      "Hindi\n",
      "COVID-19\n",
      "सामाजिक दूरी\n",
      "फोमाइट\n",
      "महामारी\n",
      "महामारी\n",
      "प्रकोप\n",
      "सामुदायिक फैलाव\n",
      "संपर्क अनुरेखण\n",
      "मार्शल लॉ\n",
      "क्वारंटाइन\n",
      "सुपर स्प्रेडर\n",
      "अलगाव\n",
      "अलगाव\n",
      "संक्रामक\n",
      "रोग फैलानेवाला\n",
      "वाइरस\n",
      "nan\n",
      "nan\n",
      "nan\n",
      "nan\n",
      "nan\n"
     ]
    }
   ],
   "source": [
    "for i in keywords.iloc[:,1]:\n",
    "    print(i)"
   ]
  },
  {
   "cell_type": "code",
   "execution_count": 88,
   "metadata": {},
   "outputs": [],
   "source": [
    "import os\n",
    "path = '/home/zam21003/tweets_collected_by_chiman'"
   ]
  },
  {
   "cell_type": "code",
   "execution_count": 75,
   "metadata": {},
   "outputs": [],
   "source": [
    "files_list = os.listdir('/home/zam21003/tweets_collected_by_chiman')"
   ]
  },
  {
   "cell_type": "code",
   "execution_count": 84,
   "metadata": {},
   "outputs": [],
   "source": [
    "import re\n",
    "pattern = r'h.*'\n",
    "hindi_files = [file for file in files_list if re.match(pattern, file)]"
   ]
  },
  {
   "cell_type": "code",
   "execution_count": 85,
   "metadata": {},
   "outputs": [
    {
     "data": {
      "text/plain": [
       "['hindi_tweets2.csv', 'hindi_tweets3.csv', 'hindi_tweets.csv']"
      ]
     },
     "execution_count": 85,
     "metadata": {},
     "output_type": "execute_result"
    }
   ],
   "source": [
    "hindi_files"
   ]
  },
  {
   "cell_type": "code",
   "execution_count": 12,
   "metadata": {},
   "outputs": [
    {
     "name": "stderr",
     "output_type": "stream",
     "text": [
      "<ipython-input-12-5e92866d1033>:1: DtypeWarning: Columns (0,1,2) have mixed types. Specify dtype option on import or set low_memory=False.\n",
      "  hindi_tweets1 = pd.read_csv('/home/zam21003/tweets_collected_by_chiman/hindi_tweets.csv')\n",
      "<ipython-input-12-5e92866d1033>:2: DtypeWarning: Columns (0,1,2) have mixed types. Specify dtype option on import or set low_memory=False.\n",
      "  hindi_tweets2 = pd.read_csv('/home/zam21003/tweets_collected_by_chiman/hindi_tweets2.csv')\n",
      "<ipython-input-12-5e92866d1033>:3: DtypeWarning: Columns (0,1,2) have mixed types. Specify dtype option on import or set low_memory=False.\n",
      "  hindi_tweets3 = pd.read_csv('/home/zam21003/tweets_collected_by_chiman/hindi_tweets3.csv')\n"
     ]
    }
   ],
   "source": [
    "hindi_tweets1 = pd.read_csv('/home/zam21003/tweets_collected_by_chiman/hindi_tweets.csv')\n",
    "hindi_tweets2 = pd.read_csv('/home/zam21003/tweets_collected_by_chiman/hindi_tweets2.csv')\n",
    "hindi_tweets3 = pd.read_csv('/home/zam21003/tweets_collected_by_chiman/hindi_tweets3.csv')\n",
    "dfs = [hindi_tweets1,hindi_tweets2,hindi_tweets3]"
   ]
  },
  {
   "cell_type": "code",
   "execution_count": 13,
   "metadata": {},
   "outputs": [],
   "source": [
    "combined_df = pd.concat(dfs, ignore_index=True)"
   ]
  },
  {
   "cell_type": "code",
   "execution_count": 14,
   "metadata": {},
   "outputs": [],
   "source": [
    "import numpy as np\n",
    "hindi_count = 0\n",
    "for i in keywords.iloc[:, 1]:\n",
    "    if not pd.isna(i):\n",
    "        hindi_count = hindi_count + len(combined_df[combined_df['text'].str.contains(i) == True]['text'])\n",
    "\n"
   ]
  },
  {
   "cell_type": "code",
   "execution_count": 15,
   "metadata": {},
   "outputs": [
    {
     "data": {
      "text/plain": [
       "421899"
      ]
     },
     "execution_count": 15,
     "metadata": {},
     "output_type": "execute_result"
    }
   ],
   "source": [
    "hindi_count"
   ]
  },
  {
   "cell_type": "code",
   "execution_count": 16,
   "metadata": {},
   "outputs": [
    {
     "data": {
      "text/plain": [
       "400253"
      ]
     },
     "execution_count": 16,
     "metadata": {},
     "output_type": "execute_result"
    }
   ],
   "source": [
    "len(combined_df)"
   ]
  },
  {
   "cell_type": "code",
   "execution_count": 20,
   "metadata": {},
   "outputs": [
    {
     "name": "stdout",
     "output_type": "stream",
     "text": [
      "Persian\n",
      "COVID 19\n",
      "فاصله اجتماعی\n",
      "فومیت\n",
      "اپیدمی\n",
      "پاندمی\n",
      "شیوع\n",
      "nan\n",
      "nan\n",
      "nan\n",
      "nan\n",
      "سوپر اسپریدر\n",
      "انزوا\n",
      "ایزوله سازی شخصی\n",
      "مسری\n",
      "عفونی\n",
      "ویروس\n",
      "nan\n",
      "nan\n",
      "nan\n",
      "nan\n",
      "nan\n"
     ]
    }
   ],
   "source": [
    "for i in keywords.iloc[:,3]:\n",
    "    print(i)"
   ]
  },
  {
   "cell_type": "code",
   "execution_count": 17,
   "metadata": {},
   "outputs": [],
   "source": [
    "persian_df = pd.read_csv('/home/zam21003/tweets_collected_by_chiman/persian_tweets.csv')\n"
   ]
  },
  {
   "cell_type": "code",
   "execution_count": 24,
   "metadata": {},
   "outputs": [],
   "source": [
    "import numpy as np\n",
    "persian_count = 0\n",
    "for i in keywords.iloc[:,3]:\n",
    "    if not pd.isna(i):\n",
    "        persian_count = persian_count + len(combined_df[combined_df['text'].str.contains(i) == True]['text'])\n"
   ]
  },
  {
   "cell_type": "code",
   "execution_count": 25,
   "metadata": {},
   "outputs": [
    {
     "data": {
      "text/plain": [
       "1940"
      ]
     },
     "execution_count": 25,
     "metadata": {},
     "output_type": "execute_result"
    }
   ],
   "source": [
    "persian_count"
   ]
  },
  {
   "cell_type": "code",
   "execution_count": 28,
   "metadata": {},
   "outputs": [
    {
     "data": {
      "text/html": [
       "<div>\n",
       "<style scoped>\n",
       "    .dataframe tbody tr th:only-of-type {\n",
       "        vertical-align: middle;\n",
       "    }\n",
       "\n",
       "    .dataframe tbody tr th {\n",
       "        vertical-align: top;\n",
       "    }\n",
       "\n",
       "    .dataframe thead th {\n",
       "        text-align: right;\n",
       "    }\n",
       "</style>\n",
       "<table border=\"1\" class=\"dataframe\">\n",
       "  <thead>\n",
       "    <tr style=\"text-align: right;\">\n",
       "      <th></th>\n",
       "      <th>Unnamed: 0</th>\n",
       "      <th>author_id</th>\n",
       "      <th>tweet_id</th>\n",
       "      <th>username</th>\n",
       "      <th>author_followers</th>\n",
       "      <th>author_tweets</th>\n",
       "      <th>author_description</th>\n",
       "      <th>author_location</th>\n",
       "      <th>text</th>\n",
       "      <th>created_at</th>\n",
       "      <th>retweets</th>\n",
       "      <th>replies</th>\n",
       "      <th>likes</th>\n",
       "      <th>quote_count</th>\n",
       "    </tr>\n",
       "  </thead>\n",
       "  <tbody>\n",
       "    <tr>\n",
       "      <th>0</th>\n",
       "      <td>0</td>\n",
       "      <td>1147279258831773696</td>\n",
       "      <td>1649079890560405504</td>\n",
       "      <td>hosseyn1988</td>\n",
       "      <td>71533.0</td>\n",
       "      <td>55128.0</td>\n",
       "      <td>۱- خیلي وقتا واقعاً نمی‌رسم همۀ پیاما و جوابا ...</td>\n",
       "      <td>NaN</td>\n",
       "      <td>ندانست و نگفتم که از یک شب خواب خودم زده‌ام تا...</td>\n",
       "      <td>2023-04-20 15:57:38+00:00</td>\n",
       "      <td>2.0</td>\n",
       "      <td>1.0</td>\n",
       "      <td>759.0</td>\n",
       "      <td>0.0</td>\n",
       "    </tr>\n",
       "    <tr>\n",
       "      <th>1</th>\n",
       "      <td>1</td>\n",
       "      <td>1147279258831773696</td>\n",
       "      <td>1649079886198317057</td>\n",
       "      <td>hosseyn1988</td>\n",
       "      <td>71533.0</td>\n",
       "      <td>55128.0</td>\n",
       "      <td>۱- خیلي وقتا واقعاً نمی‌رسم همۀ پیاما و جوابا ...</td>\n",
       "      <td>NaN</td>\n",
       "      <td>یارو سگ‌کُش نشد. عین خرس خوابید. همین الآن، یع...</td>\n",
       "      <td>2023-04-20 15:57:37+00:00</td>\n",
       "      <td>2.0</td>\n",
       "      <td>2.0</td>\n",
       "      <td>766.0</td>\n",
       "      <td>0.0</td>\n",
       "    </tr>\n",
       "    <tr>\n",
       "      <th>2</th>\n",
       "      <td>2</td>\n",
       "      <td>828018189703356416</td>\n",
       "      <td>1649079604869750786</td>\n",
       "      <td>UnapologeticBug</td>\n",
       "      <td>1019.0</td>\n",
       "      <td>55767.0</td>\n",
       "      <td>ترامپى ها و ارزشى ها و سلطنت طلب ها و مجاهد ها...</td>\n",
       "      <td>همین ورا</td>\n",
       "      <td>زرت و زرت واسه علایم مشکوک به کرونا سی تی اسکن...</td>\n",
       "      <td>2023-04-20 15:56:30+00:00</td>\n",
       "      <td>0.0</td>\n",
       "      <td>1.0</td>\n",
       "      <td>13.0</td>\n",
       "      <td>0.0</td>\n",
       "    </tr>\n",
       "    <tr>\n",
       "      <th>3</th>\n",
       "      <td>3</td>\n",
       "      <td>1055229709527773185</td>\n",
       "      <td>1649078528955281408</td>\n",
       "      <td>MiniMinor6</td>\n",
       "      <td>440.0</td>\n",
       "      <td>35046.0</td>\n",
       "      <td>خرابش کردم ، که عِمارت در خرابی است!</td>\n",
       "      <td>NaN</td>\n",
       "      <td>@behnooshroozbeh بله اسفند ماه کرونا گرفتم تاز...</td>\n",
       "      <td>2023-04-20 15:52:14+00:00</td>\n",
       "      <td>0.0</td>\n",
       "      <td>1.0</td>\n",
       "      <td>0.0</td>\n",
       "      <td>0.0</td>\n",
       "    </tr>\n",
       "    <tr>\n",
       "      <th>4</th>\n",
       "      <td>4</td>\n",
       "      <td>1553714903202107394</td>\n",
       "      <td>1649078496843399168</td>\n",
       "      <td>nadiiii333</td>\n",
       "      <td>3541.0</td>\n",
       "      <td>6495.0</td>\n",
       "      <td>🧠Psychiatry resident 🧠</td>\n",
       "      <td>333</td>\n",
       "      <td>یادش بخیر دوسال پیش تواوج کرونا\\n کادر درمان ه...</td>\n",
       "      <td>2023-04-20 15:52:06+00:00</td>\n",
       "      <td>0.0</td>\n",
       "      <td>2.0</td>\n",
       "      <td>43.0</td>\n",
       "      <td>0.0</td>\n",
       "    </tr>\n",
       "    <tr>\n",
       "      <th>...</th>\n",
       "      <td>...</td>\n",
       "      <td>...</td>\n",
       "      <td>...</td>\n",
       "      <td>...</td>\n",
       "      <td>...</td>\n",
       "      <td>...</td>\n",
       "      <td>...</td>\n",
       "      <td>...</td>\n",
       "      <td>...</td>\n",
       "      <td>...</td>\n",
       "      <td>...</td>\n",
       "      <td>...</td>\n",
       "      <td>...</td>\n",
       "      <td>...</td>\n",
       "    </tr>\n",
       "    <tr>\n",
       "      <th>100347</th>\n",
       "      <td>100335</td>\n",
       "      <td>1518915141529702400</td>\n",
       "      <td>1614772792058060801</td>\n",
       "      <td>alpha_man_1981</td>\n",
       "      <td>32.0</td>\n",
       "      <td>406.0</td>\n",
       "      <td>۴۰ تهران</td>\n",
       "      <td>tehran</td>\n",
       "      <td>@fatemeniko_ حالا متاهل شدن انقدر مهمه؟الان با...</td>\n",
       "      <td>2023-01-15 23:53:29+00:00</td>\n",
       "      <td>0.0</td>\n",
       "      <td>0.0</td>\n",
       "      <td>0.0</td>\n",
       "      <td>0.0</td>\n",
       "    </tr>\n",
       "    <tr>\n",
       "      <th>100348</th>\n",
       "      <td>100336</td>\n",
       "      <td>1065658304884547585</td>\n",
       "      <td>1614772573266485248</td>\n",
       "      <td>indypersian</td>\n",
       "      <td>274026.0</td>\n",
       "      <td>139624.0</td>\n",
       "      <td>Official account of the Independent Persian. ح...</td>\n",
       "      <td>New York, USA</td>\n",
       "      <td>جهان بار دیگر آماده برگزاری «مجمع اقتصاد جهانی...</td>\n",
       "      <td>2023-01-15 23:52:37+00:00</td>\n",
       "      <td>1.0</td>\n",
       "      <td>7.0</td>\n",
       "      <td>43.0</td>\n",
       "      <td>0.0</td>\n",
       "    </tr>\n",
       "    <tr>\n",
       "      <th>100349</th>\n",
       "      <td>100337</td>\n",
       "      <td>991235191</td>\n",
       "      <td>1614772476839620609</td>\n",
       "      <td>Saadi_Hafezian</td>\n",
       "      <td>278.0</td>\n",
       "      <td>51363.0</td>\n",
       "      <td>حافظ تو ختم کن که هنر خود عیان شود با مدعی نزا...</td>\n",
       "      <td>NaN</td>\n",
       "      <td>@nikahang من قطعی گاز رو از انتقام جویی خامنه ...</td>\n",
       "      <td>2023-01-15 23:52:14+00:00</td>\n",
       "      <td>0.0</td>\n",
       "      <td>1.0</td>\n",
       "      <td>1.0</td>\n",
       "      <td>0.0</td>\n",
       "    </tr>\n",
       "    <tr>\n",
       "      <th>100350</th>\n",
       "      <td>100338</td>\n",
       "      <td>1583526637605474304</td>\n",
       "      <td>1614772362032857089</td>\n",
       "      <td>ariu79952071</td>\n",
       "      <td>76.0</td>\n",
       "      <td>1830.0</td>\n",
       "      <td>NaN</td>\n",
       "      <td>NaN</td>\n",
       "      <td>@m_maghsood @beehnam اینا انقد نجس هستن و تمام...</td>\n",
       "      <td>2023-01-15 23:51:46+00:00</td>\n",
       "      <td>0.0</td>\n",
       "      <td>0.0</td>\n",
       "      <td>0.0</td>\n",
       "      <td>0.0</td>\n",
       "    </tr>\n",
       "    <tr>\n",
       "      <th>100351</th>\n",
       "      <td>100339</td>\n",
       "      <td>1612202653219540993</td>\n",
       "      <td>1614771014453305346</td>\n",
       "      <td>threeKAF</td>\n",
       "      <td>0.0</td>\n",
       "      <td>138.0</td>\n",
       "      <td>برای انان سه کاف منشوریم و برای تو کاوه اهنگر،...</td>\n",
       "      <td>NaN</td>\n",
       "      <td>با چند میلیون کشته کرونا برای دو نفر نعمت الهی...</td>\n",
       "      <td>2023-01-15 23:46:25+00:00</td>\n",
       "      <td>0.0</td>\n",
       "      <td>0.0</td>\n",
       "      <td>0.0</td>\n",
       "      <td>0.0</td>\n",
       "    </tr>\n",
       "  </tbody>\n",
       "</table>\n",
       "<p>100352 rows × 14 columns</p>\n",
       "</div>"
      ],
      "text/plain": [
       "       Unnamed: 0            author_id             tweet_id         username  \\\n",
       "0               0  1147279258831773696  1649079890560405504      hosseyn1988   \n",
       "1               1  1147279258831773696  1649079886198317057      hosseyn1988   \n",
       "2               2   828018189703356416  1649079604869750786  UnapologeticBug   \n",
       "3               3  1055229709527773185  1649078528955281408       MiniMinor6   \n",
       "4               4  1553714903202107394  1649078496843399168       nadiiii333   \n",
       "...           ...                  ...                  ...              ...   \n",
       "100347     100335  1518915141529702400  1614772792058060801   alpha_man_1981   \n",
       "100348     100336  1065658304884547585  1614772573266485248      indypersian   \n",
       "100349     100337            991235191  1614772476839620609   Saadi_Hafezian   \n",
       "100350     100338  1583526637605474304  1614772362032857089     ariu79952071   \n",
       "100351     100339  1612202653219540993  1614771014453305346         threeKAF   \n",
       "\n",
       "        author_followers  author_tweets  \\\n",
       "0                71533.0        55128.0   \n",
       "1                71533.0        55128.0   \n",
       "2                 1019.0        55767.0   \n",
       "3                  440.0        35046.0   \n",
       "4                 3541.0         6495.0   \n",
       "...                  ...            ...   \n",
       "100347              32.0          406.0   \n",
       "100348          274026.0       139624.0   \n",
       "100349             278.0        51363.0   \n",
       "100350              76.0         1830.0   \n",
       "100351               0.0          138.0   \n",
       "\n",
       "                                       author_description author_location  \\\n",
       "0       ۱- خیلي وقتا واقعاً نمی‌رسم همۀ پیاما و جوابا ...             NaN   \n",
       "1       ۱- خیلي وقتا واقعاً نمی‌رسم همۀ پیاما و جوابا ...             NaN   \n",
       "2       ترامپى ها و ارزشى ها و سلطنت طلب ها و مجاهد ها...        همین ورا   \n",
       "3                    خرابش کردم ، که عِمارت در خرابی است!             NaN   \n",
       "4                                  🧠Psychiatry resident 🧠             333   \n",
       "...                                                   ...             ...   \n",
       "100347                                           ۴۰ تهران          tehran   \n",
       "100348  Official account of the Independent Persian. ح...   New York, USA   \n",
       "100349  حافظ تو ختم کن که هنر خود عیان شود با مدعی نزا...             NaN   \n",
       "100350                                                NaN             NaN   \n",
       "100351  برای انان سه کاف منشوریم و برای تو کاوه اهنگر،...             NaN   \n",
       "\n",
       "                                                     text  \\\n",
       "0       ندانست و نگفتم که از یک شب خواب خودم زده‌ام تا...   \n",
       "1       یارو سگ‌کُش نشد. عین خرس خوابید. همین الآن، یع...   \n",
       "2       زرت و زرت واسه علایم مشکوک به کرونا سی تی اسکن...   \n",
       "3       @behnooshroozbeh بله اسفند ماه کرونا گرفتم تاز...   \n",
       "4       یادش بخیر دوسال پیش تواوج کرونا\\n کادر درمان ه...   \n",
       "...                                                   ...   \n",
       "100347  @fatemeniko_ حالا متاهل شدن انقدر مهمه؟الان با...   \n",
       "100348  جهان بار دیگر آماده برگزاری «مجمع اقتصاد جهانی...   \n",
       "100349  @nikahang من قطعی گاز رو از انتقام جویی خامنه ...   \n",
       "100350  @m_maghsood @beehnam اینا انقد نجس هستن و تمام...   \n",
       "100351  با چند میلیون کشته کرونا برای دو نفر نعمت الهی...   \n",
       "\n",
       "                       created_at  retweets  replies  likes  quote_count  \n",
       "0       2023-04-20 15:57:38+00:00       2.0      1.0  759.0          0.0  \n",
       "1       2023-04-20 15:57:37+00:00       2.0      2.0  766.0          0.0  \n",
       "2       2023-04-20 15:56:30+00:00       0.0      1.0   13.0          0.0  \n",
       "3       2023-04-20 15:52:14+00:00       0.0      1.0    0.0          0.0  \n",
       "4       2023-04-20 15:52:06+00:00       0.0      2.0   43.0          0.0  \n",
       "...                           ...       ...      ...    ...          ...  \n",
       "100347  2023-01-15 23:53:29+00:00       0.0      0.0    0.0          0.0  \n",
       "100348  2023-01-15 23:52:37+00:00       1.0      7.0   43.0          0.0  \n",
       "100349  2023-01-15 23:52:14+00:00       0.0      1.0    1.0          0.0  \n",
       "100350  2023-01-15 23:51:46+00:00       0.0      0.0    0.0          0.0  \n",
       "100351  2023-01-15 23:46:25+00:00       0.0      0.0    0.0          0.0  \n",
       "\n",
       "[100352 rows x 14 columns]"
      ]
     },
     "execution_count": 28,
     "metadata": {},
     "output_type": "execute_result"
    }
   ],
   "source": [
    "persian_df"
   ]
  },
  {
   "cell_type": "code",
   "execution_count": 27,
   "metadata": {},
   "outputs": [
    {
     "data": {
      "text/plain": [
       "400253"
      ]
     },
     "execution_count": 27,
     "metadata": {},
     "output_type": "execute_result"
    }
   ],
   "source": [
    "len(combined_df)"
   ]
  },
  {
   "cell_type": "code",
   "execution_count": 32,
   "metadata": {},
   "outputs": [],
   "source": [
    "mandarin = pd.read_csv('/home/zam21003/tweets_collected_by_chiman/mandarin_tweets.csv')"
   ]
  },
  {
   "cell_type": "code",
   "execution_count": 33,
   "metadata": {},
   "outputs": [
    {
     "data": {
      "text/plain": [
       "100393"
      ]
     },
     "execution_count": 33,
     "metadata": {},
     "output_type": "execute_result"
    }
   ],
   "source": [
    "len(mandarin)"
   ]
  },
  {
   "cell_type": "code",
   "execution_count": 34,
   "metadata": {},
   "outputs": [
    {
     "name": "stdout",
     "output_type": "stream",
     "text": [
      "<class 'pandas.core.frame.DataFrame'>\n",
      "RangeIndex: 100393 entries, 0 to 100392\n",
      "Data columns (total 14 columns):\n",
      " #   Column              Non-Null Count   Dtype  \n",
      "---  ------              --------------   -----  \n",
      " 0   Unnamed: 0          100393 non-null  object \n",
      " 1   author_id           100138 non-null  object \n",
      " 2   tweet_id            100155 non-null  object \n",
      " 3   username            100155 non-null  object \n",
      " 4   author_followers    100155 non-null  float64\n",
      " 5   author_tweets       100155 non-null  float64\n",
      " 6   author_description  83116 non-null   object \n",
      " 7   author_location     56651 non-null   object \n",
      " 8   text                100063 non-null  object \n",
      " 9   created_at          100015 non-null  object \n",
      " 10  retweets            100015 non-null  float64\n",
      " 11  replies             100015 non-null  float64\n",
      " 12  likes               100015 non-null  float64\n",
      " 13  quote_count         100015 non-null  float64\n",
      "dtypes: float64(6), object(8)\n",
      "memory usage: 10.7+ MB\n"
     ]
    }
   ],
   "source": [
    "mandarin.info()"
   ]
  },
  {
   "cell_type": "code",
   "execution_count": 37,
   "metadata": {},
   "outputs": [
    {
     "name": "stdout",
     "output_type": "stream",
     "text": [
      "Data spans from 2022-04-10 14:30:32+00:00 to 2023-04-20 15:59:24+00:00\n"
     ]
    }
   ],
   "source": [
    "combined_df['created_at'] = pd.to_datetime(combined_df['created_at'], errors='coerce')\n",
    "\n",
    "# Filter out NaT values\n",
    "combined_df = combined_df.dropna(subset=['created_at'])\n",
    "\n",
    "# Find the minimum and maximum dates in the dataframe\n",
    "min_date = combined_df['created_at'].min()\n",
    "max_date = combined_df['created_at'].max()\n",
    "\n",
    "print(\"Data spans from {} to {}\".format(min_date, max_date))"
   ]
  },
  {
   "cell_type": "code",
   "execution_count": 38,
   "metadata": {},
   "outputs": [
    {
     "name": "stdout",
     "output_type": "stream",
     "text": [
      "Data spans from 2023-02-24 12:49:26+00:00 to 2023-04-20 19:50:55+00:00\n"
     ]
    }
   ],
   "source": [
    "mandarin['created_at'] = pd.to_datetime(mandarin['created_at'], errors='coerce')\n",
    "\n",
    "# Filter out NaT values\n",
    "mandarin = mandarin.dropna(subset=['created_at'])\n",
    "\n",
    "# Find the minimum and maximum dates in the dataframe\n",
    "min_date = mandarin['created_at'].min()\n",
    "max_date = mandarin['created_at'].max()\n",
    "\n",
    "print(\"Data spans from {} to {}\".format(min_date, max_date))"
   ]
  },
  {
   "cell_type": "code",
   "execution_count": 39,
   "metadata": {},
   "outputs": [
    {
     "name": "stdout",
     "output_type": "stream",
     "text": [
      "Data spans from 2023-01-15 23:46:25+00:00 to 2023-04-20 15:57:38+00:00\n"
     ]
    }
   ],
   "source": [
    "persian_df['created_at'] = pd.to_datetime(persian_df['created_at'], errors='coerce')\n",
    "\n",
    "# Filter out NaT values\n",
    "persian_df = persian_df.dropna(subset=['created_at'])\n",
    "\n",
    "# Find the minimum and maximum dates in the dataframe\n",
    "min_date = persian_df['created_at'].min()\n",
    "max_date = persian_df['created_at'].max()\n",
    "\n",
    "print(\"Data spans from {} to {}\".format(min_date, max_date))"
   ]
  },
  {
   "cell_type": "code",
   "execution_count": 41,
   "metadata": {},
   "outputs": [
    {
     "name": "stdout",
     "output_type": "stream",
     "text": [
      "Data spans from 2009-06-19 23:37:45+00:00 to 2023-04-20 15:56:31+00:00\n"
     ]
    }
   ],
   "source": [
    "gujarati_tweets['created_at'] = pd.to_datetime(gujarati_tweets['created_at'], errors='coerce')\n",
    "\n",
    "# Filter out NaT values\n",
    "gujarati_tweets = gujarati_tweets.dropna(subset=['created_at'])\n",
    "\n",
    "# Find the minimum and maximum dates in the dataframe\n",
    "min_date = gujarati_tweets['created_at'].min()\n",
    "max_date = gujarati_tweets['created_at'].max()\n",
    "\n",
    "print(\"Data spans from {} to {}\".format(min_date, max_date))"
   ]
  },
  {
   "cell_type": "code",
   "execution_count": 42,
   "metadata": {},
   "outputs": [
    {
     "data": {
      "text/plain": [
       "400239"
      ]
     },
     "execution_count": 42,
     "metadata": {},
     "output_type": "execute_result"
    }
   ],
   "source": [
    "len(combined_df)"
   ]
  },
  {
   "cell_type": "code",
   "execution_count": 54,
   "metadata": {},
   "outputs": [],
   "source": [
    "nan_values = persian_df['text'].isnull().any()"
   ]
  },
  {
   "cell_type": "code",
   "execution_count": 58,
   "metadata": {},
   "outputs": [
    {
     "data": {
      "text/plain": [
       "'@BJP4India @narendramodi @kpmaurya1 \\n@SwamiPMaurya \\n@Mayawati \\n@AnupriyaSPatel \\nदेखते हैं देश का क्षत्रिय राजपूत ब्राह्मणों के चंगुल से निकल कर आर्यों से भी गौरपूर्ण अपना इतिहास कब तलाशता है?\\nhttps://t.co/Ai0G4mleQs\\n@rajnathsingh\\n@Gen_VKSingh @myogiadityanath\\n@digvijaya_28 @nstomar\\n@SanjayAzadSln https://t.co/oI8m8M4s4r'"
      ]
     },
     "execution_count": 58,
     "metadata": {},
     "output_type": "execute_result"
    }
   ],
   "source": [
    "combined_df['text'][0]"
   ]
  },
  {
   "cell_type": "code",
   "execution_count": 61,
   "metadata": {},
   "outputs": [],
   "source": [
    "combined_df.to_csv('/home/zam21003/tweets_collected_by_chiman/chindi_tweets.csv', index=False)"
   ]
  },
  {
   "cell_type": "code",
   "execution_count": null,
   "metadata": {},
   "outputs": [],
   "source": []
  }
 ],
 "metadata": {
  "interpreter": {
   "hash": "c68c61ac377f974d07e0387260abd429c114c6fa475f8625a6072404040de5da"
  },
  "kernelspec": {
   "display_name": "Python 3.10.9 ('cross_lingual')",
   "language": "python",
   "name": "python3"
  },
  "language_info": {
   "codemirror_mode": {
    "name": "ipython",
    "version": 3
   },
   "file_extension": ".py",
   "mimetype": "text/x-python",
   "name": "python",
   "nbconvert_exporter": "python",
   "pygments_lexer": "ipython3",
   "version": "3.8.10"
  },
  "orig_nbformat": 4
 },
 "nbformat": 4,
 "nbformat_minor": 2
}
